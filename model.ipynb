{
 "cells": [
  {
   "cell_type": "markdown",
   "metadata": {},
   "source": [
    "## Importing Train and Test Images"
   ]
  },
  {
   "cell_type": "code",
   "execution_count": 1,
   "metadata": {},
   "outputs": [],
   "source": [
    "import numpy as np\n",
    "from mnist import MNIST"
   ]
  },
  {
   "cell_type": "code",
   "execution_count": 2,
   "metadata": {},
   "outputs": [],
   "source": [
    "data= MNIST('Dataset')"
   ]
  },
  {
   "cell_type": "code",
   "execution_count": 3,
   "metadata": {},
   "outputs": [],
   "source": [
    "#Loading the train and test data\n",
    "X_train, y_train= data.load('Dataset/emnist-byclass-train-images-idx3-ubyte',\n",
    "                               'Dataset/emnist-byclass-train-labels-idx1-ubyte')\n",
    "X_test, y_test= data.load('Dataset/emnist-byclass-test-images-idx3-ubyte',\n",
    "                             'Dataset/emnist-byclass-test-labels-idx1-ubyte')"
   ]
  },
  {
   "cell_type": "code",
   "execution_count": 4,
   "metadata": {},
   "outputs": [],
   "source": [
    "# Convert data to numpy arrays and normalize images to the interval [0, 1]\n",
    "X_train = np.array(X_train) / 255.0\n",
    "y_train = np.array(y_train)\n",
    "X_test = np.array(X_test) / 255.0\n",
    "y_test = np.array(y_test)"
   ]
  },
  {
   "cell_type": "markdown",
   "metadata": {},
   "source": [
    "## Preprocessing Images"
   ]
  },
  {
   "cell_type": "code",
   "execution_count": 5,
   "metadata": {},
   "outputs": [],
   "source": [
    "#Reshaping all images into 28*28\n",
    "X_train = X_train.reshape(X_train.shape[0], 28, 28)\n",
    "X_test = X_test.reshape(X_test.shape[0], 28, 28)"
   ]
  },
  {
   "cell_type": "code",
   "execution_count": 6,
   "metadata": {},
   "outputs": [
    {
     "data": {
      "text/plain": [
       "<Figure size 640x480 with 1 Axes>"
      ]
     },
     "metadata": {},
     "output_type": "display_data"
    }
   ],
   "source": [
    "from matplotlib import pyplot as plt\n",
    "#Display a random image\n",
    "plt.imshow(X_train[10], cmap='gray'), plt.axis('off')\n",
    "plt.show()"
   ]
  },
  {
   "cell_type": "code",
   "execution_count": 7,
   "metadata": {},
   "outputs": [
    {
     "data": {
      "text/plain": [
       "697932"
      ]
     },
     "execution_count": 7,
     "metadata": {},
     "output_type": "execute_result"
    }
   ],
   "source": [
    "len(X_train)"
   ]
  },
  {
   "cell_type": "code",
   "execution_count": 8,
   "metadata": {},
   "outputs": [
    {
     "data": {
      "text/plain": [
       "<function matplotlib.pyplot.show(*args, **kw)>"
      ]
     },
     "execution_count": 8,
     "metadata": {},
     "output_type": "execute_result"
    },
    {
     "data": {
      "image/png": "[encoded data removed]",
      "text/plain": [
       "<Figure size 432x288 with 1 Axes>"
      ]
     },
     "metadata": {
      "needs_background": "light"
     },
     "output_type": "display_data"
    }
   ],
   "source": [
    "#for train data\n",
    "for t in range(len(X_train)):\n",
    "    X_train[t]=np.transpose(X_train[t])\n",
    "    \n",
    "#checking\n",
    "plt.imshow(X_train[0], cmap='gray')\n",
    "plt.show"
   ]
  },
  {
   "cell_type": "code",
   "execution_count": 9,
   "metadata": {},
   "outputs": [
    {
     "data": {
      "text/plain": [
       "<function matplotlib.pyplot.show(*args, **kw)>"
      ]
     },
     "execution_count": 9,
     "metadata": {},
     "output_type": "execute_result"
    },
    {
     "data": {
      "image/png": "[encoded data removed]",
      "text/plain": [
       "<Figure size 432x288 with 1 Axes>"
      ]
     },
     "metadata": {
      "needs_background": "light"
     },
     "output_type": "display_data"
    }
   ],
   "source": [
    "#for test data  \n",
    "for t in range(116323):\n",
    "    X_test[t]=np.transpose(X_test[t])\n",
    "    \n",
    "\n",
    "#checking\n",
    "plt.imshow(X_test[1], cmap='gray')\n",
    "plt.show"
   ]
  },
  {
   "cell_type": "markdown",
   "metadata": {},
   "source": [
    "## Reshaping train and test data again for input into model"
   ]
  },
  {
   "cell_type": "code",
   "execution_count": 10,
   "metadata": {},
   "outputs": [],
   "source": [
    "X_train = X_train.reshape(X_train.shape[0], 784,1)\n",
    "X_test = X_test.reshape(X_test.shape[0], 784,1)"
   ]
  },
  {
   "cell_type": "markdown",
   "metadata": {},
   "source": [
    "## Creating Model"
   ]
  },
  {
   "cell_type": "code",
   "execution_count": 18,
   "metadata": {},
   "outputs": [],
   "source": [
    "from keras.models import Sequential\n",
    "from keras import optimizers\n",
    "from keras.layers import Convolution2D, MaxPooling2D, Dropout, Flatten, Dense, Reshape, LSTM\n",
    "from keras import backend as K\n",
    "from keras.constraints import maxnorm\n",
    "from keras.utils import np_utils"
   ]
  },
  {
   "cell_type": "code",
   "execution_count": 19,
   "metadata": {},
   "outputs": [],
   "source": [
    "def resh(ipar):\n",
    "    opar = []\n",
    "    for image in ipar:\n",
    "        opar.append(image.reshape(-1))\n",
    "    return np.asarray(opar)"
   ]
  },
  {
   "cell_type": "code",
   "execution_count": 20,
   "metadata": {},
   "outputs": [],
   "source": [
    "train_images = X_train.astype('float32')\n",
    "test_images = X_test.astype('float32')"
   ]
  },
  {
   "cell_type": "code",
   "execution_count": 21,
   "metadata": {},
   "outputs": [],
   "source": [
    "train_images = resh(train_images)\n",
    "test_images = resh(test_images)"
   ]
  },
  {
   "cell_type": "code",
   "execution_count": 22,
   "metadata": {},
   "outputs": [],
   "source": [
    "train_labels = np_utils.to_categorical(y_train, 62)\n",
    "test_labels = np_utils.to_categorical(y_test, 62)"
   ]
  },
  {
   "cell_type": "code",
   "execution_count": 23,
   "metadata": {},
   "outputs": [],
   "source": [
    "K.set_learning_phase(1)\n",
    "\n",
    "model = Sequential()\n",
    "\n",
    "model.add(Reshape((28,28,1), input_shape=(784,)))\n",
    "\n",
    "model.add(Convolution2D(32, (5,5),activation='relu'))\n",
    "model.add(MaxPooling2D(pool_size=(2,2)))\n",
    "\n",
    "model.add(Flatten())\n",
    "\n",
    "model.add(Dense(512, activation='relu', kernel_constraint=maxnorm(3)))\n",
    "\n",
    "model.add(Dropout(0.1))\n",
    "\n",
    "model.add(Dense(62, activation='softmax'))\n",
    "\n",
    "opt = optimizers.Adamax(lr=0.002, beta_1=0.9, beta_2=0.999, epsilon=None, decay=0.0)\n",
    "model.compile(loss='categorical_crossentropy', optimizer=opt, metrics=['accuracy'])"
   ]
  },
  {
   "cell_type": "code",
   "execution_count": 24,
   "metadata": {},
   "outputs": [
    {
     "name": "stdout",
     "output_type": "stream",
     "text": [
      "_________________________________________________________________\n",
      "Layer (type)                 Output Shape              Param #   \n",
      "=================================================================\n",
      "reshape_3 (Reshape)          (None, 28, 28, 1)         0         \n",
      "_________________________________________________________________\n",
      "conv2d_3 (Conv2D)            (None, 24, 24, 32)        832       \n",
      "_________________________________________________________________\n",
      "max_pooling2d_3 (MaxPooling2 (None, 12, 12, 32)        0         \n",
      "_________________________________________________________________\n",
      "flatten_2 (Flatten)          (None, 4608)              0         \n",
      "_________________________________________________________________\n",
      "dense_3 (Dense)              (None, 512)               2359808   \n",
      "_________________________________________________________________\n",
      "dropout_2 (Dropout)          (None, 512)               0         \n",
      "_________________________________________________________________\n",
      "dense_4 (Dense)              (None, 62)                31806     \n",
      "=================================================================\n",
      "Total params: 2,392,446\n",
      "Trainable params: 2,392,446\n",
      "Non-trainable params: 0\n",
      "_________________________________________________________________\n",
      "None\n"
     ]
    }
   ],
   "source": [
    "print(model.summary())"
   ]
  },
  {
   "cell_type": "code",
   "execution_count": 25,
   "metadata": {},
   "outputs": [
    {
     "name": "stderr",
     "output_type": "stream",
     "text": [
      "W1104 21:03:34.185251   540 deprecation.py:323] From C:\\Anaconda\\envs\\tf-gpu\\lib\\site-packages\\tensorflow\\python\\ops\\math_grad.py:1250: add_dispatch_support.<locals>.wrapper (from tensorflow.python.ops.array_ops) is deprecated and will be removed in a future version.\n",
      "Instructions for updating:\n",
      "Use tf.where in 2.0, which has the same broadcast rule as np.where\n"
     ]
    },
    {
     "name": "stdout",
     "output_type": "stream",
     "text": [
      "Train on 697932 samples, validate on 116323 samples\n",
      "Epoch 1/20\n",
      "697932/697932 [==============================] - 307s 440us/step - loss: 0.5286 - acc: 0.8235 - val_loss: 0.4255 - val_acc: 0.8486\n",
      "Epoch 2/20\n",
      "697932/697932 [==============================] - 337s 483us/step - loss: 0.4005 - acc: 0.8557 - val_loss: 0.3963 - val_acc: 0.8571\n",
      "Epoch 3/20\n",
      "697932/697932 [==============================] - 365s 523us/step - loss: 0.3754 - acc: 0.8625 - val_loss: 0.3856 - val_acc: 0.8603\n",
      "Epoch 4/20\n",
      "697932/697932 [==============================] - 365s 523us/step - loss: 0.3604 - acc: 0.8665 - val_loss: 0.3812 - val_acc: 0.8610\n",
      "Epoch 5/20\n",
      "697932/697932 [==============================] - 365s 522us/step - loss: 0.3489 - acc: 0.8694 - val_loss: 0.3811 - val_acc: 0.8613\n",
      "Epoch 6/20\n",
      "697932/697932 [==============================] - 365s 522us/step - loss: 0.3396 - acc: 0.8724 - val_loss: 0.3780 - val_acc: 0.8628\n",
      "Epoch 7/20\n",
      "697932/697932 [==============================] - 365s 523us/step - loss: 0.3310 - acc: 0.8749 - val_loss: 0.3745 - val_acc: 0.8630\n",
      "Epoch 8/20\n",
      "697932/697932 [==============================] - 368s 528us/step - loss: 0.3238 - acc: 0.8772 - val_loss: 0.3773 - val_acc: 0.8627\n",
      "Epoch 9/20\n",
      "697932/697932 [==============================] - 365s 523us/step - loss: 0.3169 - acc: 0.8794 - val_loss: 0.3784 - val_acc: 0.8614\n",
      "Epoch 10/20\n",
      "697932/697932 [==============================] - 366s 525us/step - loss: 0.3107 - acc: 0.8812 - val_loss: 0.3780 - val_acc: 0.8624\n",
      "Epoch 11/20\n",
      "697932/697932 [==============================] - 365s 523us/step - loss: 0.3049 - acc: 0.8829 - val_loss: 0.3831 - val_acc: 0.8589\n",
      "Epoch 12/20\n",
      "697932/697932 [==============================] - 365s 523us/step - loss: 0.2991 - acc: 0.8848 - val_loss: 0.3805 - val_acc: 0.8624\n",
      "Epoch 13/20\n",
      "697932/697932 [==============================] - 366s 524us/step - loss: 0.2935 - acc: 0.8867 - val_loss: 0.3821 - val_acc: 0.8610\n",
      "Epoch 14/20\n",
      "697932/697932 [==============================] - 366s 525us/step - loss: 0.2882 - acc: 0.8884 - val_loss: 0.3867 - val_acc: 0.8622\n",
      "Epoch 15/20\n",
      "697932/697932 [==============================] - 365s 523us/step - loss: 0.2831 - acc: 0.8902 - val_loss: 0.3904 - val_acc: 0.8601\n",
      "Epoch 16/20\n",
      "697932/697932 [==============================] - 367s 526us/step - loss: 0.2786 - acc: 0.8917 - val_loss: 0.3989 - val_acc: 0.8606\n",
      "Epoch 17/20\n",
      "697932/697932 [==============================] - 367s 525us/step - loss: 0.2739 - acc: 0.8934 - val_loss: 0.3965 - val_acc: 0.8598\n",
      "Epoch 18/20\n",
      "697932/697932 [==============================] - 368s 527us/step - loss: 0.2691 - acc: 0.8953 - val_loss: 0.4056 - val_acc: 0.8605\n",
      "Epoch 19/20\n",
      "697932/697932 [==============================] - 367s 525us/step - loss: 0.2648 - acc: 0.8966 - val_loss: 0.4066 - val_acc: 0.8580\n",
      "Epoch 20/20\n",
      "697932/697932 [==============================] - 366s 525us/step - loss: 0.2605 - acc: 0.8985 - val_loss: 0.4067 - val_acc: 0.8585\n"
     ]
    }
   ],
   "source": [
    "history = model.fit(train_images,train_labels,validation_data=(test_images, test_labels), batch_size=128, epochs=20)"
   ]
  },
  {
   "cell_type": "code",
   "execution_count": 26,
   "metadata": {},
   "outputs": [
    {
     "name": "stdout",
     "output_type": "stream",
     "text": [
      "Accuracy: 85.90%\n"
     ]
    }
   ],
   "source": [
    "#evaluating model on test data. will take time\n",
    "scores = model.evaluate(test_images,test_labels, verbose = 0)\n",
    "print(\"Accuracy: %.2f%%\"%(scores[1]*100))"
   ]
  },
  {
   "cell_type": "code",
   "execution_count": 27,
   "metadata": {},
   "outputs": [
    {
     "name": "stdout",
     "output_type": "stream",
     "text": [
      "dict_keys(['val_loss', 'val_acc', 'loss', 'acc'])\n"
     ]
    },
    {
     "data": {
      "image/png": "[encoded data removed]",
      "text/plain": [
       "<Figure size 432x288 with 1 Axes>"
      ]
     },
     "metadata": {
      "needs_background": "light"
     },
     "output_type": "display_data"
    },
    {
     "data": {
      "image/png": "[encoded data removed]",
      "text/plain": [
       "<Figure size 432x288 with 1 Axes>"
      ]
     },
     "metadata": {
      "needs_background": "light"
     },
     "output_type": "display_data"
    }
   ],
   "source": [
    "print(history.history.keys())\n",
    "# summarize history for accuracy\n",
    "plt.plot(history.history['acc'])\n",
    "plt.plot(history.history['val_acc'])\n",
    "plt.title('Model Accuracy')\n",
    "plt.ylabel('Accuracy')\n",
    "plt.xlabel('Epoch')\n",
    "plt.legend(['Train', 'Test'], loc='upper left')\n",
    "plt.grid()\n",
    "plt.show()\n",
    "# summarize history for loss\n",
    "plt.plot(history.history['loss'])\n",
    "plt.plot(history.history['val_loss'])\n",
    "plt.title('Model loss')\n",
    "plt.ylabel('Loss')\n",
    "plt.xlabel('Epoch')\n",
    "plt.legend(['Train', 'Test'], loc='upper left')\n",
    "plt.grid()\n",
    "plt.show()"
   ]
  },
  {
   "cell_type": "code",
   "execution_count": 28,
   "metadata": {},
   "outputs": [
    {
     "data": {
      "image/png": "[encoded data removed]",
      "text/plain": [
       "<Figure size 432x288 with 1 Axes>"
      ]
     },
     "metadata": {
      "needs_background": "light"
     },
     "output_type": "display_data"
    }
   ],
   "source": [
    "objects = ('RMSDrop', 'Adam', 'Adamax', 'SGD', 'Adadelta')\n",
    "y_pos = np.arange(len(objects))\n",
    "performance = [86.2,85.39,89.53,84.29,87.11]\n",
    " \n",
    "plt.bar(y_pos, performance, align='center', alpha=0.5)\n",
    "plt.xticks(y_pos, objects)\n",
    "plt.ylabel('Accuracy')\n",
    "plt.title('Optimizers')\n",
    "plt.ylim(50,100)\n",
    "plt.show()"
   ]
  },
  {
   "cell_type": "code",
   "execution_count": 35,
   "metadata": {},
   "outputs": [
    {
     "data": {
      "image/png": "[encoded data removed]",
      "text/plain": [
       "<Figure size 432x288 with 1 Axes>"
      ]
     },
     "metadata": {
      "needs_background": "light"
     },
     "output_type": "display_data"
    },
    {
     "name": "stdout",
     "output_type": "stream",
     "text": [
      "prediction: [3]\n"
     ]
    }
   ],
   "source": [
    "m = X_test[3].reshape(28,28)\n",
    "plt.imshow(m, cmap='gray')\n",
    "plt.show()\n",
    "print('prediction: '+str((model.predict_classes(X_test[3].reshape(1,784)))))"
   ]
  },
  {
   "cell_type": "code",
   "execution_count": 36,
   "metadata": {},
   "outputs": [],
   "source": [
    "from keras.models import load_model\n",
    "from keras.models import model_from_json\n",
    "\n",
    "model_json = model.to_json()\n",
    "with open(\"model.json\", \"w\") as json_file:\n",
    "    json_file.write(model_json)\n",
    "#saves the model info as json file\n",
    "    \n",
    "model.save_weights(\"model.h5\")\n",
    "# Creates a HDF5 file 'model.h5'"
   ]
  }
 ],
 "metadata": {
  "kernelspec": {
   "display_name": "Python 3",
   "language": "python",
   "name": "python3"
  },
  "language_info": {
   "codemirror_mode": {
    "name": "ipython",
    "version": 3
   },
   "file_extension": ".py",
   "mimetype": "text/x-python",
   "name": "python",
   "nbconvert_exporter": "python",
   "pygments_lexer": "ipython3",
   "version": "3.7.4"
  }
 },
 "nbformat": 4,
 "nbformat_minor": 2
}
