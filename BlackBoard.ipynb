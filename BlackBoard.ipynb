{
 "cells": [
  {
   "cell_type": "code",
   "execution_count": 1,
   "metadata": {},
   "outputs": [],
   "source": [
    "# Importing libraries\n",
    "import cv2 \n",
    "import numpy as np"
   ]
  },
  {
   "cell_type": "code",
   "execution_count": 12,
   "metadata": {},
   "outputs": [],
   "source": [
    "class Board:\n",
    "    \n",
    "    def __init__(self):\n",
    "        self.mouse_pressed = False\n",
    "        self.board = np.zeros(shape=(1024, 1024, 3), dtype=np.uint8)\n",
    "        self.prev= np.zeros(shape=(1024, 1024, 3), dtype=np.uint8)\n",
    "        self.char_color = (255, 255, 255)\n",
    "        self.count= -1\n",
    "        \n",
    "    def reset(self):\n",
    "        # reset image\n",
    "        self.board = np.zeros((1024, 1024, 3), np.uint8)\n",
    "        \n",
    "    def draw(self):\n",
    "        \"\"\"\n",
    "        Method to draw multiple Charactes on a single Board\n",
    "        \"\"\"\n",
    "\n",
    "        self.reset()\n",
    "\n",
    "        window_name = 'Draw'\n",
    "\n",
    "        cv2.namedWindow(winname=window_name)\n",
    "        cv2.setMouseCallback(window_name=window_name, on_mouse=self.mouse_callback)\n",
    "\n",
    "        # Until 'ESC' key is pressed\n",
    "        while True:\n",
    "            cv2.imshow(winname=window_name, mat=self.board)\n",
    "\n",
    "            # When ESC key pressed\n",
    "            k = cv2.waitKey(delay=1) & 0xFF\n",
    "            if k == 27:\n",
    "                break\n",
    "\n",
    "        cv2.destroyAllWindows()\n",
    "    \n",
    "    def mouse_callback(self, event, x, y, flags, params):\n",
    "        \"\"\"\n",
    "        Callback method for drawing character on Board\n",
    "        \"\"\"\n",
    "\n",
    "        # LEFT Mouse Button 'pressed'\n",
    "        if event == cv2.EVENT_LBUTTONDOWN:\n",
    "            self.mouse_pressed = True\n",
    "\n",
    "        # Mouse pointer is moving\n",
    "        elif event == cv2.EVENT_MOUSEMOVE:\n",
    "            if self.mouse_pressed:\n",
    "                \n",
    "                cv2.circle(img=self.board, center=(x, y), radius=5, color=self.char_color, thickness=-1)\n",
    "        \n",
    "\n",
    "        # LEFT Mouse Button is released\n",
    "        elif event == cv2.EVENT_LBUTTONUP:\n",
    "            \n",
    "            self.mouse_pressed = False\n",
    "            self.count= self.count+1\n",
    "\n",
    "         "
   ]
  },
  {
   "cell_type": "code",
   "execution_count": 13,
   "metadata": {},
   "outputs": [],
   "source": [
    "if __name__ == '__main__':\n",
    "    Board().draw()"
   ]
  },
  {
   "cell_type": "code",
   "execution_count": null,
   "metadata": {},
   "outputs": [],
   "source": []
  }
 ],
 "metadata": {
  "kernelspec": {
   "display_name": "Python 3",
   "language": "python",
   "name": "python3"
  },
  "language_info": {
   "codemirror_mode": {
    "name": "ipython",
    "version": 3
   },
   "file_extension": ".py",
   "mimetype": "text/x-python",
   "name": "python",
   "nbconvert_exporter": "python",
   "pygments_lexer": "ipython3",
   "version": "3.7.4"
  }
 },
 "nbformat": 4,
 "nbformat_minor": 2
}
