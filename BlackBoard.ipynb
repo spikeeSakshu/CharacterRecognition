{
 "cells": [
  {
   "cell_type": "code",
   "execution_count": 1,
   "metadata": {},
   "outputs": [],
   "source": [
    "# Importing libraries\n",
    "import cv2 \n",
    "import numpy as np"
   ]
  },
  {
   "cell_type": "code",
   "execution_count": 6,
   "metadata": {},
   "outputs": [],
   "source": [
    "class Board:\n",
    "    \n",
    "    def __init__(self):\n",
    "        self.mouse_pressed = False\n",
    "        self.board = np.zeros(shape=(1024, 1024, 3), dtype=np.uint8)\n",
    "        self.prev= np.zeros(shape=(1024, 1024, 3), dtype=np.uint8)\n",
    "        self.char_color = (255, 255, 255)\n",
    "        self.count= -1\n",
    "        \n",
    "    def reset(self):\n",
    "        # reset image\n",
    "        self.board = np.zeros((1024, 1024, 3), np.uint8)\n",
    "        \n",
    "    def draw(self):\n",
    "        \"\"\"\n",
    "        Method to draw multiple Charactes on a single Board\n",
    "        \"\"\"\n",
    "\n",
    "        self.reset()\n",
    "\n",
    "        window_name = 'Draw'\n",
    "\n",
    "        cv2.namedWindow(winname=window_name)\n",
    "        cv2.setMouseCallback(window_name=window_name, on_mouse=self.mouse_callback)\n",
    "\n",
    "        # Until 'ESC' key is pressed\n",
    "        while True:\n",
    "            cv2.imshow(winname=window_name, mat=self.img)\n",
    "\n",
    "            # When ESC key pressed\n",
    "            k = cv2.waitKey(delay=1) & 0xFF\n",
    "            if k == 27:\n",
    "                break\n",
    "\n",
    "        cv2.destroyAllWindows()\n",
    "        \n",
    "    "
   ]
  },
  {
   "cell_type": "code",
   "execution_count": 7,
   "metadata": {},
   "outputs": [
    {
     "ename": "AttributeError",
     "evalue": "'Board' object has no attribute 'mouse_callback'",
     "output_type": "error",
     "traceback": [
      "\u001b[1;31m---------------------------------------------------------------------------\u001b[0m",
      "\u001b[1;31mAttributeError\u001b[0m                            Traceback (most recent call last)",
      "\u001b[1;32m<ipython-input-7-71a51d21c780>\u001b[0m in \u001b[0;36m<module>\u001b[1;34m\u001b[0m\n\u001b[0;32m      1\u001b[0m \u001b[1;32mif\u001b[0m \u001b[0m__name__\u001b[0m \u001b[1;33m==\u001b[0m \u001b[1;34m'__main__'\u001b[0m\u001b[1;33m:\u001b[0m\u001b[1;33m\u001b[0m\u001b[1;33m\u001b[0m\u001b[0m\n\u001b[1;32m----> 2\u001b[1;33m     \u001b[0mBoard\u001b[0m\u001b[1;33m(\u001b[0m\u001b[1;33m)\u001b[0m\u001b[1;33m.\u001b[0m\u001b[0mdraw\u001b[0m\u001b[1;33m(\u001b[0m\u001b[1;33m)\u001b[0m\u001b[1;33m\u001b[0m\u001b[1;33m\u001b[0m\u001b[0m\n\u001b[0m",
      "\u001b[1;32m<ipython-input-6-ab2b7034a8c8>\u001b[0m in \u001b[0;36mdraw\u001b[1;34m(self)\u001b[0m\n\u001b[0;32m     22\u001b[0m \u001b[1;33m\u001b[0m\u001b[0m\n\u001b[0;32m     23\u001b[0m         \u001b[0mcv2\u001b[0m\u001b[1;33m.\u001b[0m\u001b[0mnamedWindow\u001b[0m\u001b[1;33m(\u001b[0m\u001b[0mwinname\u001b[0m\u001b[1;33m=\u001b[0m\u001b[0mwindow_name\u001b[0m\u001b[1;33m)\u001b[0m\u001b[1;33m\u001b[0m\u001b[1;33m\u001b[0m\u001b[0m\n\u001b[1;32m---> 24\u001b[1;33m         \u001b[0mcv2\u001b[0m\u001b[1;33m.\u001b[0m\u001b[0msetMouseCallback\u001b[0m\u001b[1;33m(\u001b[0m\u001b[0mwindow_name\u001b[0m\u001b[1;33m=\u001b[0m\u001b[0mwindow_name\u001b[0m\u001b[1;33m,\u001b[0m \u001b[0mon_mouse\u001b[0m\u001b[1;33m=\u001b[0m\u001b[0mself\u001b[0m\u001b[1;33m.\u001b[0m\u001b[0mmouse_callback\u001b[0m\u001b[1;33m)\u001b[0m\u001b[1;33m\u001b[0m\u001b[1;33m\u001b[0m\u001b[0m\n\u001b[0m\u001b[0;32m     25\u001b[0m \u001b[1;33m\u001b[0m\u001b[0m\n\u001b[0;32m     26\u001b[0m         \u001b[1;31m# Until 'ESC' key is pressed\u001b[0m\u001b[1;33m\u001b[0m\u001b[1;33m\u001b[0m\u001b[1;33m\u001b[0m\u001b[0m\n",
      "\u001b[1;31mAttributeError\u001b[0m: 'Board' object has no attribute 'mouse_callback'"
     ]
    }
   ],
   "source": [
    "if __name__ == '__main__':\n",
    "    Board().draw()"
   ]
  },
  {
   "cell_type": "code",
   "execution_count": null,
   "metadata": {},
   "outputs": [],
   "source": []
  }
 ],
 "metadata": {
  "kernelspec": {
   "display_name": "Python 3",
   "language": "python",
   "name": "python3"
  },
  "language_info": {
   "codemirror_mode": {
    "name": "ipython",
    "version": 3
   },
   "file_extension": ".py",
   "mimetype": "text/x-python",
   "name": "python",
   "nbconvert_exporter": "python",
   "pygments_lexer": "ipython3",
   "version": "3.7.4"
  }
 },
 "nbformat": 4,
 "nbformat_minor": 2
}
